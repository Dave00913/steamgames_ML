{
 "cells": [
  {
   "cell_type": "code",
   "execution_count": 1,
   "id": "0f385153-b9ad-4e16-bfcf-aafa5caaf89e",
   "metadata": {},
   "outputs": [],
   "source": [
    "import pandas as pd\n",
    "import numpy as np"
   ]
  },
  {
   "cell_type": "markdown",
   "id": "a173887c-2e62-472f-8cac-4122008bd718",
   "metadata": {},
   "source": [
    "<h1>Preprocessing</h1>"
   ]
  },
  {
   "cell_type": "markdown",
   "id": "1328a18b-61ea-4a53-aac6-d81a36281572",
   "metadata": {},
   "source": [
    "<h3>Loading the CSV file and creating column headers</h3>"
   ]
  },
  {
   "cell_type": "code",
   "execution_count": 2,
   "id": "937c3b6d-f758-4fe5-8435-a3d953b0b20e",
   "metadata": {},
   "outputs": [
    {
     "data": {
      "text/html": [
       "<div>\n",
       "<style scoped>\n",
       "    .dataframe tbody tr th:only-of-type {\n",
       "        vertical-align: middle;\n",
       "    }\n",
       "\n",
       "    .dataframe tbody tr th {\n",
       "        vertical-align: top;\n",
       "    }\n",
       "\n",
       "    .dataframe thead th {\n",
       "        text-align: right;\n",
       "    }\n",
       "</style>\n",
       "<table border=\"1\" class=\"dataframe\">\n",
       "  <thead>\n",
       "    <tr style=\"text-align: right;\">\n",
       "      <th></th>\n",
       "      <th>user_id</th>\n",
       "      <th>game</th>\n",
       "      <th>played</th>\n",
       "      <th>hours_played</th>\n",
       "      <th>0</th>\n",
       "    </tr>\n",
       "  </thead>\n",
       "  <tbody>\n",
       "    <tr>\n",
       "      <th>0</th>\n",
       "      <td>151603712</td>\n",
       "      <td>The Elder Scrolls V Skyrim</td>\n",
       "      <td>play</td>\n",
       "      <td>273.0</td>\n",
       "      <td>0</td>\n",
       "    </tr>\n",
       "    <tr>\n",
       "      <th>1</th>\n",
       "      <td>151603712</td>\n",
       "      <td>Fallout 4</td>\n",
       "      <td>purchase</td>\n",
       "      <td>1.0</td>\n",
       "      <td>0</td>\n",
       "    </tr>\n",
       "    <tr>\n",
       "      <th>2</th>\n",
       "      <td>151603712</td>\n",
       "      <td>Fallout 4</td>\n",
       "      <td>play</td>\n",
       "      <td>87.0</td>\n",
       "      <td>0</td>\n",
       "    </tr>\n",
       "    <tr>\n",
       "      <th>3</th>\n",
       "      <td>151603712</td>\n",
       "      <td>Spore</td>\n",
       "      <td>purchase</td>\n",
       "      <td>1.0</td>\n",
       "      <td>0</td>\n",
       "    </tr>\n",
       "    <tr>\n",
       "      <th>4</th>\n",
       "      <td>151603712</td>\n",
       "      <td>Spore</td>\n",
       "      <td>play</td>\n",
       "      <td>14.9</td>\n",
       "      <td>0</td>\n",
       "    </tr>\n",
       "  </tbody>\n",
       "</table>\n",
       "</div>"
      ],
      "text/plain": [
       "     user_id                        game    played  hours_played  0\n",
       "0  151603712  The Elder Scrolls V Skyrim      play         273.0  0\n",
       "1  151603712                   Fallout 4  purchase           1.0  0\n",
       "2  151603712                   Fallout 4      play          87.0  0\n",
       "3  151603712                       Spore  purchase           1.0  0\n",
       "4  151603712                       Spore      play          14.9  0"
      ]
     },
     "execution_count": 2,
     "metadata": {},
     "output_type": "execute_result"
    }
   ],
   "source": [
    "df = pd.read_csv(\"steam-200k.csv\")\n",
    "\n",
    "headers = [\"user_id\", \"game\", \"played\", \"hours_played\", \"0\"]\n",
    "\n",
    "df.columns = headers\n",
    "df.drop([\"0\"], axis=1)\n",
    "df.head()"
   ]
  },
  {
   "cell_type": "code",
   "execution_count": 3,
   "id": "be58ba74-40ad-4009-ac89-24d083011c6f",
   "metadata": {},
   "outputs": [
    {
     "name": "stdout",
     "output_type": "stream",
     "text": [
      "Number of games in dataset: 5155\n"
     ]
    }
   ],
   "source": [
    "print(\"Number of games in dataset:\", len(df[\"game\"].unique()))"
   ]
  },
  {
   "cell_type": "markdown",
   "id": "4da0e3bf-b456-4ca8-8c6c-f33d216da225",
   "metadata": {},
   "source": [
    "<h3>Check for missing values</h3>"
   ]
  },
  {
   "cell_type": "code",
   "execution_count": 4,
   "id": "0ebac149-566b-4036-9f07-8b36f68afde9",
   "metadata": {},
   "outputs": [
    {
     "data": {
      "text/plain": [
       "user_id         False\n",
       "game            False\n",
       "played          False\n",
       "hours_played    False\n",
       "0               False\n",
       "dtype: bool"
      ]
     },
     "execution_count": 4,
     "metadata": {},
     "output_type": "execute_result"
    }
   ],
   "source": [
    "df.isnull().any()"
   ]
  },
  {
   "cell_type": "markdown",
   "id": "635dfeee-17d8-4658-8ca8-e7f82bc172cb",
   "metadata": {},
   "source": [
    "<h3>Changing \"played\" column to <span style=\"color:green;\"><i>true</i></span> for users who actually played the game and <span style=\"color:red;\"><i>false</i></span> for those who just purchased the game.</h3>"
   ]
  },
  {
   "cell_type": "code",
   "execution_count": 5,
   "id": "1b0d9af9-2835-4e8a-9b5d-32fc6b467319",
   "metadata": {},
   "outputs": [],
   "source": [
    "df['played'].replace({'play': 1, 'purchase': 0}, inplace=True)"
   ]
  },
  {
   "cell_type": "code",
   "execution_count": 6,
   "id": "278da6c2-9c67-4775-ad29-874c7372fbf7",
   "metadata": {},
   "outputs": [
    {
     "data": {
      "text/html": [
       "<div>\n",
       "<style scoped>\n",
       "    .dataframe tbody tr th:only-of-type {\n",
       "        vertical-align: middle;\n",
       "    }\n",
       "\n",
       "    .dataframe tbody tr th {\n",
       "        vertical-align: top;\n",
       "    }\n",
       "\n",
       "    .dataframe thead th {\n",
       "        text-align: right;\n",
       "    }\n",
       "</style>\n",
       "<table border=\"1\" class=\"dataframe\">\n",
       "  <thead>\n",
       "    <tr style=\"text-align: right;\">\n",
       "      <th></th>\n",
       "      <th>user_id</th>\n",
       "      <th>game</th>\n",
       "      <th>played</th>\n",
       "      <th>hours_played</th>\n",
       "      <th>0</th>\n",
       "    </tr>\n",
       "  </thead>\n",
       "  <tbody>\n",
       "    <tr>\n",
       "      <th>0</th>\n",
       "      <td>151603712</td>\n",
       "      <td>The Elder Scrolls V Skyrim</td>\n",
       "      <td>1</td>\n",
       "      <td>273.0</td>\n",
       "      <td>0</td>\n",
       "    </tr>\n",
       "    <tr>\n",
       "      <th>1</th>\n",
       "      <td>151603712</td>\n",
       "      <td>Fallout 4</td>\n",
       "      <td>0</td>\n",
       "      <td>1.0</td>\n",
       "      <td>0</td>\n",
       "    </tr>\n",
       "    <tr>\n",
       "      <th>2</th>\n",
       "      <td>151603712</td>\n",
       "      <td>Fallout 4</td>\n",
       "      <td>1</td>\n",
       "      <td>87.0</td>\n",
       "      <td>0</td>\n",
       "    </tr>\n",
       "    <tr>\n",
       "      <th>3</th>\n",
       "      <td>151603712</td>\n",
       "      <td>Spore</td>\n",
       "      <td>0</td>\n",
       "      <td>1.0</td>\n",
       "      <td>0</td>\n",
       "    </tr>\n",
       "    <tr>\n",
       "      <th>4</th>\n",
       "      <td>151603712</td>\n",
       "      <td>Spore</td>\n",
       "      <td>1</td>\n",
       "      <td>14.9</td>\n",
       "      <td>0</td>\n",
       "    </tr>\n",
       "  </tbody>\n",
       "</table>\n",
       "</div>"
      ],
      "text/plain": [
       "     user_id                        game  played  hours_played  0\n",
       "0  151603712  The Elder Scrolls V Skyrim       1         273.0  0\n",
       "1  151603712                   Fallout 4       0           1.0  0\n",
       "2  151603712                   Fallout 4       1          87.0  0\n",
       "3  151603712                       Spore       0           1.0  0\n",
       "4  151603712                       Spore       1          14.9  0"
      ]
     },
     "execution_count": 6,
     "metadata": {},
     "output_type": "execute_result"
    }
   ],
   "source": [
    "df.head()"
   ]
  },
  {
   "cell_type": "markdown",
   "id": "0c70e9dc-33a6-4935-bf3f-73b4ffa62471",
   "metadata": {},
   "source": [
    "<h1>Performing K-means with dataset for prediction</h1>"
   ]
  },
  {
   "cell_type": "markdown",
   "id": "ab238a0b-2610-402a-9257-cfa69837adce",
   "metadata": {},
   "source": [
    "<h3>Importing Sklearn Essentials</h3>"
   ]
  },
  {
   "cell_type": "code",
   "execution_count": 7,
   "id": "21a81248-2b9b-4b25-8a79-f526ade4fc0f",
   "metadata": {},
   "outputs": [],
   "source": [
    "from sklearn.cluster import KMeans\n",
    "from sklearn.preprocessing import MinMaxScaler"
   ]
  },
  {
   "cell_type": "code",
   "execution_count": 8,
   "id": "56e19df6-ff93-410a-ac14-64261aa4ecbf",
   "metadata": {},
   "outputs": [
    {
     "name": "stderr",
     "output_type": "stream",
     "text": [
      "/opt/homebrew/Caskroom/miniconda/base/lib/python3.11/site-packages/sklearn/cluster/_kmeans.py:1416: FutureWarning: The default value of `n_init` will change from 10 to 'auto' in 1.4. Set the value of `n_init` explicitly to suppress the warning\n",
      "  super()._check_params_vs_input(X, default_n_init=10)\n"
     ]
    }
   ],
   "source": [
    "X = df[['played', 'hours_played']]\n",
    "\n",
    "# Normalize the data using Min-Max scaling\n",
    "scaler = MinMaxScaler()\n",
    "X_scaled = scaler.fit_transform(X)\n",
    "\n",
    "# Apply k-means clustering\n",
    "k = 50  # Replace with the desired number of clusters\n",
    "kmeans = KMeans(n_clusters=k)\n",
    "df['cluster'] = kmeans.fit_predict(X_scaled)"
   ]
  },
  {
   "cell_type": "code",
   "execution_count": 9,
   "id": "16ac3cdf-a20e-42b7-ac30-0dbb4909111a",
   "metadata": {},
   "outputs": [
    {
     "data": {
      "text/plain": [
       "array([[1.00000000e+00, 2.32178256e-02],\n",
       "       [0.00000000e+00, 7.65703298e-05],\n",
       "       [1.00000000e+00, 7.39329074e-03],\n",
       "       ...,\n",
       "       [1.00000000e+00, 1.19109402e-04],\n",
       "       [0.00000000e+00, 7.65703298e-05],\n",
       "       [1.00000000e+00, 1.10601588e-04]])"
      ]
     },
     "execution_count": 9,
     "metadata": {},
     "output_type": "execute_result"
    }
   ],
   "source": [
    "X_scaled"
   ]
  },
  {
   "cell_type": "markdown",
   "id": "88ffe669-32f3-401d-9630-79d723e3cf36",
   "metadata": {},
   "source": [
    "<h1>Trial</h1>"
   ]
  },
  {
   "cell_type": "code",
   "execution_count": 231,
   "id": "69bd4c86-4d24-4c4d-a66e-58b8e943f5a1",
   "metadata": {},
   "outputs": [
    {
     "name": "stderr",
     "output_type": "stream",
     "text": [
      "/opt/homebrew/Caskroom/miniconda/base/lib/python3.11/site-packages/sklearn/cluster/_kmeans.py:1416: FutureWarning: The default value of `n_init` will change from 10 to 'auto' in 1.4. Set the value of `n_init` explicitly to suppress the warning\n",
      "  super()._check_params_vs_input(X, default_n_init=10)\n",
      "/opt/homebrew/Caskroom/miniconda/base/lib/python3.11/site-packages/sklearn/cluster/_kmeans.py:1416: FutureWarning: The default value of `n_init` will change from 10 to 'auto' in 1.4. Set the value of `n_init` explicitly to suppress the warning\n",
      "  super()._check_params_vs_input(X, default_n_init=10)\n",
      "/opt/homebrew/Caskroom/miniconda/base/lib/python3.11/site-packages/sklearn/cluster/_kmeans.py:1416: FutureWarning: The default value of `n_init` will change from 10 to 'auto' in 1.4. Set the value of `n_init` explicitly to suppress the warning\n",
      "  super()._check_params_vs_input(X, default_n_init=10)\n",
      "/opt/homebrew/Caskroom/miniconda/base/lib/python3.11/site-packages/sklearn/cluster/_kmeans.py:1416: FutureWarning: The default value of `n_init` will change from 10 to 'auto' in 1.4. Set the value of `n_init` explicitly to suppress the warning\n",
      "  super()._check_params_vs_input(X, default_n_init=10)\n",
      "/opt/homebrew/Caskroom/miniconda/base/lib/python3.11/site-packages/sklearn/cluster/_kmeans.py:1416: FutureWarning: The default value of `n_init` will change from 10 to 'auto' in 1.4. Set the value of `n_init` explicitly to suppress the warning\n",
      "  super()._check_params_vs_input(X, default_n_init=10)\n",
      "/opt/homebrew/Caskroom/miniconda/base/lib/python3.11/site-packages/sklearn/cluster/_kmeans.py:1416: FutureWarning: The default value of `n_init` will change from 10 to 'auto' in 1.4. Set the value of `n_init` explicitly to suppress the warning\n",
      "  super()._check_params_vs_input(X, default_n_init=10)\n",
      "/opt/homebrew/Caskroom/miniconda/base/lib/python3.11/site-packages/sklearn/cluster/_kmeans.py:1416: FutureWarning: The default value of `n_init` will change from 10 to 'auto' in 1.4. Set the value of `n_init` explicitly to suppress the warning\n",
      "  super()._check_params_vs_input(X, default_n_init=10)\n",
      "/opt/homebrew/Caskroom/miniconda/base/lib/python3.11/site-packages/sklearn/cluster/_kmeans.py:1416: FutureWarning: The default value of `n_init` will change from 10 to 'auto' in 1.4. Set the value of `n_init` explicitly to suppress the warning\n",
      "  super()._check_params_vs_input(X, default_n_init=10)\n",
      "/opt/homebrew/Caskroom/miniconda/base/lib/python3.11/site-packages/sklearn/cluster/_kmeans.py:1416: FutureWarning: The default value of `n_init` will change from 10 to 'auto' in 1.4. Set the value of `n_init` explicitly to suppress the warning\n",
      "  super()._check_params_vs_input(X, default_n_init=10)\n",
      "/opt/homebrew/Caskroom/miniconda/base/lib/python3.11/site-packages/sklearn/cluster/_kmeans.py:1416: FutureWarning: The default value of `n_init` will change from 10 to 'auto' in 1.4. Set the value of `n_init` explicitly to suppress the warning\n",
      "  super()._check_params_vs_input(X, default_n_init=10)\n"
     ]
    },
    {
     "data": {
      "image/png": "[encoded data removed]",
      "text/plain": [
       "<Figure size 640x480 with 1 Axes>"
      ]
     },
     "metadata": {},
     "output_type": "display_data"
    },
    {
     "name": "stderr",
     "output_type": "stream",
     "text": [
      "/opt/homebrew/Caskroom/miniconda/base/lib/python3.11/site-packages/sklearn/cluster/_kmeans.py:1416: FutureWarning: The default value of `n_init` will change from 10 to 'auto' in 1.4. Set the value of `n_init` explicitly to suppress the warning\n",
      "  super()._check_params_vs_input(X, default_n_init=10)\n",
      "/opt/homebrew/Caskroom/miniconda/base/lib/python3.11/site-packages/sklearn/cluster/_kmeans.py:1416: FutureWarning: The default value of `n_init` will change from 10 to 'auto' in 1.4. Set the value of `n_init` explicitly to suppress the warning\n",
      "  super()._check_params_vs_input(X, default_n_init=10)\n",
      "/opt/homebrew/Caskroom/miniconda/base/lib/python3.11/site-packages/sklearn/cluster/_kmeans.py:1416: FutureWarning: The default value of `n_init` will change from 10 to 'auto' in 1.4. Set the value of `n_init` explicitly to suppress the warning\n",
      "  super()._check_params_vs_input(X, default_n_init=10)\n",
      "/opt/homebrew/Caskroom/miniconda/base/lib/python3.11/site-packages/sklearn/cluster/_kmeans.py:1416: FutureWarning: The default value of `n_init` will change from 10 to 'auto' in 1.4. Set the value of `n_init` explicitly to suppress the warning\n",
      "  super()._check_params_vs_input(X, default_n_init=10)\n",
      "/opt/homebrew/Caskroom/miniconda/base/lib/python3.11/site-packages/sklearn/cluster/_kmeans.py:1416: FutureWarning: The default value of `n_init` will change from 10 to 'auto' in 1.4. Set the value of `n_init` explicitly to suppress the warning\n",
      "  super()._check_params_vs_input(X, default_n_init=10)\n",
      "/opt/homebrew/Caskroom/miniconda/base/lib/python3.11/site-packages/sklearn/cluster/_kmeans.py:1416: FutureWarning: The default value of `n_init` will change from 10 to 'auto' in 1.4. Set the value of `n_init` explicitly to suppress the warning\n",
      "  super()._check_params_vs_input(X, default_n_init=10)\n",
      "/opt/homebrew/Caskroom/miniconda/base/lib/python3.11/site-packages/sklearn/cluster/_kmeans.py:1416: FutureWarning: The default value of `n_init` will change from 10 to 'auto' in 1.4. Set the value of `n_init` explicitly to suppress the warning\n",
      "  super()._check_params_vs_input(X, default_n_init=10)\n",
      "/opt/homebrew/Caskroom/miniconda/base/lib/python3.11/site-packages/sklearn/cluster/_kmeans.py:1416: FutureWarning: The default value of `n_init` will change from 10 to 'auto' in 1.4. Set the value of `n_init` explicitly to suppress the warning\n",
      "  super()._check_params_vs_input(X, default_n_init=10)\n",
      "/opt/homebrew/Caskroom/miniconda/base/lib/python3.11/site-packages/sklearn/cluster/_kmeans.py:1416: FutureWarning: The default value of `n_init` will change from 10 to 'auto' in 1.4. Set the value of `n_init` explicitly to suppress the warning\n",
      "  super()._check_params_vs_input(X, default_n_init=10)\n"
     ]
    },
    {
     "name": "stdin",
     "output_type": "stream",
     "text": [
      "Enter the optimal number of clusters based on the analysis:  3\n"
     ]
    },
    {
     "name": "stdout",
     "output_type": "stream",
     "text": [
      "['Dota 2' 'Counter-Strike Global Offensive']\n"
     ]
    },
    {
     "name": "stderr",
     "output_type": "stream",
     "text": [
      "/opt/homebrew/Caskroom/miniconda/base/lib/python3.11/site-packages/sklearn/cluster/_kmeans.py:1416: FutureWarning: The default value of `n_init` will change from 10 to 'auto' in 1.4. Set the value of `n_init` explicitly to suppress the warning\n",
      "  super()._check_params_vs_input(X, default_n_init=10)\n",
      "/var/folders/jr/99b35g1s4m1_pddtcv9m0qmc0000gn/T/ipykernel_48359/1398718262.py:46: SettingWithCopyWarning: \n",
      "A value is trying to be set on a copy of a slice from a DataFrame.\n",
      "Try using .loc[row_indexer,col_indexer] = value instead\n",
      "\n",
      "See the caveats in the documentation: https://pandas.pydata.org/pandas-docs/stable/user_guide/indexing.html#returning-a-view-versus-a-copy\n",
      "  df_selected['cluster'] = kmeans.labels_\n"
     ]
    }
   ],
   "source": [
    "import pandas as pd\n",
    "from sklearn.cluster import KMeans\n",
    "import matplotlib.pyplot as plt\n",
    "from sklearn.metrics import silhouette_score\n",
    "\n",
    "# Load the dataset\n",
    "df = pd.read_csv(\"steam-200k.csv\")\n",
    "\n",
    "headers = [\"user_id\", \"game\", \"played\", \"hours_played\", \"0\"]\n",
    "df.columns = headers\n",
    "df = df.drop([\"0\"], axis=1)  # Assign the modified DataFrame back to df\n",
    "\n",
    "# Filter the dataset based on the selected game\n",
    "selected_game = 'The Elder Scrolls V Skyrim'\n",
    "df_selected = df[df['game'] == selected_game]\n",
    "\n",
    "# Elbow Method\n",
    "inertias = []\n",
    "for k in range(1, 11):\n",
    "    kmeans = KMeans(n_clusters=k)\n",
    "    kmeans.fit(df_selected[['hours_played']])\n",
    "    inertias.append(kmeans.inertia_)\n",
    "\n",
    "# Plot the elbow method\n",
    "plt.plot(range(1, 11), inertias, marker='o')\n",
    "plt.title('Elbow Method for Optimal k')\n",
    "plt.xlabel('Number of clusters (k)')\n",
    "plt.ylabel('Inertia')\n",
    "plt.show()\n",
    "\n",
    "# Silhouette Analysis\n",
    "silhouette_scores = []\n",
    "for k in range(2, 11):\n",
    "    kmeans = KMeans(n_clusters=k)\n",
    "    kmeans.fit(df_selected[['hours_played']])\n",
    "    silhouette_scores.append(silhouette_score(df_selected[['hours_played']], kmeans.labels_))\n",
    "\n",
    "# Choose the best number of clusters based on user input\n",
    "best_k = int(input(\"Enter the optimal number of clusters based on the analysis: \"))\n",
    "\n",
    "# Apply k-means clustering with the chosen number of clusters\n",
    "kmeans = KMeans(n_clusters=best_k)\n",
    "kmeans.fit(df_selected[['hours_played']])\n",
    "\n",
    "# Get the cluster label for each row in the filtered dataset\n",
    "df_selected['cluster'] = kmeans.labels_\n",
    "\n",
    "# Get the mean hours played for each cluster\n",
    "cluster_means = df_selected.groupby('cluster')['hours_played'].mean()\n",
    "\n",
    "# Filter out games played by less than 100 players\n",
    "df_filtered = df[df.groupby('game')['user_id'].transform('count') >= 100]\n",
    "\n",
    "# Find the cluster with the highest mean hours played\n",
    "best_cluster = cluster_means.idxmax()\n",
    "\n",
    "# Get the top 5 games with the closest mean hours played to the best cluster mean\n",
    "mean_of_best_cluster = cluster_means[best_cluster]\n",
    "suggested_games = df_filtered[(df_filtered['game'] != selected_game) & \n",
    "                              (df_filtered['hours_played'] >= mean_of_best_cluster - 5) & \n",
    "                              (df_filtered['hours_played'] <= mean_of_best_cluster + 5)].sort_values('hours_played', ascending=False)['game'].unique()[:5]\n",
    "print(suggested_games)\n"
   ]
  },
  {
   "cell_type": "code",
   "execution_count": 177,
   "id": "deade0ef-d9b3-4d92-a582-55d4cc4d4e09",
   "metadata": {},
   "outputs": [
    {
     "data": {
      "text/plain": [
       "5155"
      ]
     },
     "execution_count": 177,
     "metadata": {},
     "output_type": "execute_result"
    }
   ],
   "source": [
    "len(df['game'].unique())"
   ]
  },
  {
   "cell_type": "code",
   "execution_count": 2,
   "id": "5539d0ae-0b2f-477b-bc3e-d72ea578f383",
   "metadata": {},
   "outputs": [
    {
     "name": "stdout",
     "output_type": "stream",
     "text": [
      "                                        game  size       mean  similarity\n",
      "354               The Elder Scrolls V Skyrim  1393  51.403661    1.000000\n",
      "356  The Elder Scrolls V Skyrim - Dragonborn   365   1.000000    0.420727\n",
      "313      Skyrim High Resolution Texture Pack   235   1.000000    0.419230\n",
      "355   The Elder Scrolls V Skyrim - Dawnguard   378   1.000000    0.412891\n",
      "357  The Elder Scrolls V Skyrim - Hearthfire   367   1.000000    0.374555\n",
      "231         Medal of Honor(TM) Single Player   156   2.098077    0.312988\n"
     ]
    },
    {
     "name": "stderr",
     "output_type": "stream",
     "text": [
      "/var/folders/jr/99b35g1s4m1_pddtcv9m0qmc0000gn/T/ipykernel_1033/1267923414.py:34: FutureWarning: The provided callable <function mean at 0x10659dbc0> is currently using SeriesGroupBy.mean. In a future version of pandas, the provided callable will be used directly. To keep current behavior pass the string \"mean\" instead.\n",
      "  gameData = df.groupby('game').agg({'hours_played': [np.size, np.mean]})\n"
     ]
    }
   ],
   "source": [
    "import pandas as pd\n",
    "import sklearn as sk\n",
    "import numpy as np\n",
    "import matplotlib.pyplot as plt\n",
    "from sklearn.metrics.pairwise import cosine_similarity\n",
    "from sklearn.preprocessing import StandardScaler\n",
    "\n",
    "# Load the dataset\n",
    "df = pd.read_csv(\"steam-200k.csv\")\n",
    "\n",
    "headers = [\"user_id\", \"game\", \"played\", \"hours_played\", \"0\"]\n",
    "df.columns = headers\n",
    "df = df.drop([\"0\"], axis=1)  # Assign the modified DataFrame back to df\n",
    "\n",
    "matrix = df.pivot_table(columns='game', index='user_id', values='hours_played')\n",
    "matrix = matrix.dropna(thresh=5, axis=0)\n",
    "matrix = df.pivot_table(columns='game', index='user_id', values='hours_played', fill_value=0)\n",
    "\n",
    "def center(row):\n",
    "    new_row = (row - row.mean()) / (row.max() - row.min())\n",
    "    return new_row\n",
    "\n",
    "matrix_std = matrix.apply(center)\n",
    "\n",
    "# Standardize the matrix_std using StandardScaler\n",
    "scaler = StandardScaler()\n",
    "df_norm = pd.DataFrame(scaler.fit_transform(matrix_std), columns=matrix_std.columns, index=matrix_std.index)\n",
    "\n",
    "def gameRec(g):\n",
    "    dota = df_norm[g]\n",
    "    dota_corr = df_norm.corrwith(dota).dropna()\n",
    "    \n",
    "    # Create a DF to show how many times each game has been played and the mean time it has been played\n",
    "    gameData = df.groupby('game').agg({'hours_played': [np.size, np.mean]})\n",
    "    \n",
    "    # Reset the index of gameData to avoid MultiIndex issues\n",
    "    gameData = gameData.reset_index()\n",
    "    \n",
    "    # Convert dota_corr to a DataFrame with a single-level index\n",
    "    dota_corr_df = pd.DataFrame({'game': dota_corr.index, 'similarity': dota_corr.values})\n",
    "    \n",
    "    # Convert gameData to have a single-level index\n",
    "    gameData.columns = ['game', 'size', 'mean']\n",
    "    \n",
    "    # Filter out any game played by fewer than 100 players.\n",
    "    gameSim = gameData['size'] >= 100\n",
    "    \n",
    "    # Merge DataFrames\n",
    "    df_result = pd.merge(gameData[gameSim], dota_corr_df, on='game')\n",
    "    \n",
    "    return df_result.sort_values(['similarity'], ascending=False)[:6]\n",
    "\n",
    "result = gameRec('The Elder Scrolls V Skyrim')\n",
    "print(result)"
   ]
  },
  {
   "cell_type": "code",
   "execution_count": 10,
   "id": "517223c2-ae54-4c45-9986-94fd20a6e9f2",
   "metadata": {},
   "outputs": [
    {
     "name": "stdout",
     "output_type": "stream",
     "text": [
      "                                        game  size        mean  similarity\n",
      "91           Counter-Strike Global Offensive  2789  116.236501    0.554463\n",
      "106                                     DayZ   495   41.544242    0.535578\n",
      "186                              Half-Life 2   995    4.923920    0.526929\n",
      "354               The Elder Scrolls V Skyrim  1393   51.403661    0.526468\n",
      "188                  Half-Life 2 Episode One   542    2.283764    0.393524\n",
      "189                  Half-Life 2 Episode Two   506    2.935178    0.369058\n",
      "313      Skyrim High Resolution Texture Pack   235    1.000000    0.307547\n",
      "356  The Elder Scrolls V Skyrim - Dragonborn   365    1.000000    0.307170\n",
      "355   The Elder Scrolls V Skyrim - Dawnguard   378    1.000000    0.303907\n"
     ]
    },
    {
     "name": "stderr",
     "output_type": "stream",
     "text": [
      "/var/folders/jr/99b35g1s4m1_pddtcv9m0qmc0000gn/T/ipykernel_1033/3310163062.py:37: FutureWarning: The provided callable <function mean at 0x10659dbc0> is currently using SeriesGroupBy.mean. In a future version of pandas, the provided callable will be used directly. To keep current behavior pass the string \"mean\" instead.\n",
      "  gameData = df.groupby('game').agg({'hours_played': [np.size, np.mean]})\n"
     ]
    }
   ],
   "source": [
    "import pandas as pd\n",
    "import numpy as np\n",
    "from sklearn.preprocessing import StandardScaler\n",
    "\n",
    "# Load the dataset\n",
    "df = pd.read_csv(\"steam-200k.csv\")\n",
    "\n",
    "headers = [\"user_id\", \"game\", \"played\", \"hours_played\", \"0\"]\n",
    "df.columns = headers\n",
    "df = df.drop([\"0\"], axis=1)  # Assign the modified DataFrame back to df\n",
    "\n",
    "matrix = df.pivot_table(columns='game', index='user_id', values='hours_played')\n",
    "matrix = matrix.dropna(thresh=5, axis=0)\n",
    "matrix = df.pivot_table(columns='game', index='user_id', values='hours_played', fill_value=0)\n",
    "\n",
    "def center(row):\n",
    "    new_row = (row - row.mean()) / (row.max() - row.min())\n",
    "    return new_row\n",
    "\n",
    "matrix_std = matrix.apply(center)\n",
    "\n",
    "# Standardize the matrix_std using StandardScaler\n",
    "scaler = StandardScaler()\n",
    "df_norm = pd.DataFrame(scaler.fit_transform(matrix_std), columns=matrix_std.columns, index=matrix_std.index)\n",
    "\n",
    "def gameRec(input_games):\n",
    "    # Get the subset of the DataFrame for the input games\n",
    "    input_data = df_norm[input_games]\n",
    "    \n",
    "    # Calculate the mean of the input games\n",
    "    input_mean = input_data.mean(axis=1)\n",
    "    \n",
    "    # Calculate the correlation with the mean of the input games\n",
    "    corr_with_input = df_norm.corrwith(input_mean).dropna()\n",
    "    \n",
    "    # Create a DataFrame to show how many times each game has been played and the mean time it has been played\n",
    "    gameData = df.groupby('game').agg({'hours_played': [np.size, np.mean]})\n",
    "    \n",
    "    # Reset the index of gameData to avoid MultiIndex issues\n",
    "    gameData = gameData.reset_index()\n",
    "    \n",
    "    # Convert corr_with_input to a DataFrame with a single-level index\n",
    "    corr_df = pd.DataFrame({'game': corr_with_input.index, 'similarity': corr_with_input.values})\n",
    "    \n",
    "    # Convert gameData to have a single-level index\n",
    "    gameData.columns = ['game', 'size', 'mean']\n",
    "    \n",
    "    # Filter out any game played by fewer than 100 players.\n",
    "    gameSim = gameData['size'] >= 100\n",
    "    \n",
    "    # Merge DataFrames\n",
    "    df_result = pd.merge(gameData[gameSim], corr_df, on='game')\n",
    "    \n",
    "    return df_result.sort_values(['similarity'], ascending=False)[:(len(input_games) + 5)]\n",
    "\n",
    "# Example usage with a list of input games\n",
    "input_games = ['The Elder Scrolls V Skyrim', 'DayZ', 'Half-Life 2', 'Counter-Strike Global Offensive']\n",
    "result = gameRec(input_games)\n",
    "print(result)"
   ]
  },
  {
   "cell_type": "code",
   "execution_count": null,
   "id": "7f52c0d3-1a81-4041-a9fa-86e430f111af",
   "metadata": {},
   "outputs": [],
   "source": []
  }
 ],
 "metadata": {
  "kernelspec": {
   "display_name": "Python 3 (ipykernel)",
   "language": "python",
   "name": "python3"
  },
  "language_info": {
   "codemirror_mode": {
    "name": "ipython",
    "version": 3
   },
   "file_extension": ".py",
   "mimetype": "text/x-python",
   "name": "python",
   "nbconvert_exporter": "python",
   "pygments_lexer": "ipython3",
   "version": "3.11.4"
  }
 },
 "nbformat": 4,
 "nbformat_minor": 5
}
